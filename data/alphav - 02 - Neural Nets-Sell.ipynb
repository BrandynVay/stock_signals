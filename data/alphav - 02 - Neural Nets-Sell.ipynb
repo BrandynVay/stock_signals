{
 "cells": [
  {
   "cell_type": "code",
   "execution_count": 194,
   "metadata": {},
   "outputs": [],
   "source": [
    "import numpy as np\n",
    "import sklearn\n",
    "import matplotlib\n",
    "import matplotlib.pyplot as plt\n",
    "import pandas as pd\n",
    "from sklearn.model_selection import GridSearchCV\n",
    "# http://scikit-learn.org/stable/modules/generated/sklearn.metrics.precision_recall_curve.html\n",
    "from sklearn.metrics import accuracy_score, precision_score, recall_score, f1_score, r2_score, precision_recall_curve, mean_squared_error\n",
    "\n",
    "from sklearn.neural_network import MLPClassifier\n",
    "from sklearn.preprocessing import StandardScaler\n",
    "\n",
    "from sklearn.ensemble import GradientBoostingClassifier\n",
    "from sklearn.cross_validation import cross_val_score\n",
    "from sklearn.metrics import classification_report,f1_score"
   ]
  },
  {
   "cell_type": "code",
   "execution_count": 195,
   "metadata": {},
   "outputs": [
    {
     "data": {
      "text/html": [
       "<div>\n",
       "<table border=\"1\" class=\"dataframe\">\n",
       "  <thead>\n",
       "    <tr style=\"text-align: right;\">\n",
       "      <th></th>\n",
       "      <th>Chaikin A/D</th>\n",
       "      <th>ADX</th>\n",
       "      <th>Aroon Down</th>\n",
       "      <th>Aroon Up</th>\n",
       "      <th>Real Lower Band</th>\n",
       "      <th>Real Middle Band</th>\n",
       "      <th>Real Upper Band</th>\n",
       "      <th>CCI</th>\n",
       "      <th>EMA</th>\n",
       "      <th>MACD</th>\n",
       "      <th>...</th>\n",
       "      <th>FastD</th>\n",
       "      <th>FastK</th>\n",
       "      <th>open</th>\n",
       "      <th>high</th>\n",
       "      <th>low</th>\n",
       "      <th>close</th>\n",
       "      <th>volume</th>\n",
       "      <th>buy</th>\n",
       "      <th>sell</th>\n",
       "      <th>hold</th>\n",
       "    </tr>\n",
       "    <tr>\n",
       "      <th>timestamp</th>\n",
       "      <th></th>\n",
       "      <th></th>\n",
       "      <th></th>\n",
       "      <th></th>\n",
       "      <th></th>\n",
       "      <th></th>\n",
       "      <th></th>\n",
       "      <th></th>\n",
       "      <th></th>\n",
       "      <th></th>\n",
       "      <th></th>\n",
       "      <th></th>\n",
       "      <th></th>\n",
       "      <th></th>\n",
       "      <th></th>\n",
       "      <th></th>\n",
       "      <th></th>\n",
       "      <th></th>\n",
       "      <th></th>\n",
       "      <th></th>\n",
       "      <th></th>\n",
       "    </tr>\n",
       "  </thead>\n",
       "  <tbody>\n",
       "    <tr>\n",
       "      <th>1998-07-10</th>\n",
       "      <td>9.495330e+06</td>\n",
       "      <td>25.816</td>\n",
       "      <td>100.0</td>\n",
       "      <td>0.0</td>\n",
       "      <td>10.0417</td>\n",
       "      <td>93.966</td>\n",
       "      <td>177.8903</td>\n",
       "      <td>-654.2586</td>\n",
       "      <td>95.9199</td>\n",
       "      <td>-7.1406</td>\n",
       "      <td>...</td>\n",
       "      <td>66.6667</td>\n",
       "      <td>0.0</td>\n",
       "      <td>37.25</td>\n",
       "      <td>38.5</td>\n",
       "      <td>36.5</td>\n",
       "      <td>38.13</td>\n",
       "      <td>5284767</td>\n",
       "      <td>1</td>\n",
       "      <td>0</td>\n",
       "      <td>0</td>\n",
       "    </tr>\n",
       "  </tbody>\n",
       "</table>\n",
       "<p>1 rows × 27 columns</p>\n",
       "</div>"
      ],
      "text/plain": [
       "             Chaikin A/D     ADX  Aroon Down  Aroon Up  Real Lower Band  \\\n",
       "timestamp                                                                 \n",
       "1998-07-10  9.495330e+06  25.816       100.0       0.0          10.0417   \n",
       "\n",
       "            Real Middle Band  Real Upper Band       CCI      EMA    MACD  \\\n",
       "timestamp                                                                  \n",
       "1998-07-10            93.966         177.8903 -654.2586  95.9199 -7.1406   \n",
       "\n",
       "            ...     FastD  FastK   open  high   low  close   volume  buy  \\\n",
       "timestamp   ...                                                            \n",
       "1998-07-10  ...   66.6667    0.0  37.25  38.5  36.5  38.13  5284767    1   \n",
       "\n",
       "            sell  hold  \n",
       "timestamp               \n",
       "1998-07-10     0     0  \n",
       "\n",
       "[1 rows x 27 columns]"
      ]
     },
     "execution_count": 195,
     "metadata": {},
     "output_type": "execute_result"
    }
   ],
   "source": [
    "df = pd.read_csv('labeled_DIS.csv', index_col='timestamp')\n",
    "df.head(1)"
   ]
  },
  {
   "cell_type": "code",
   "execution_count": 196,
   "metadata": {},
   "outputs": [
    {
     "data": {
      "text/html": [
       "<div>\n",
       "<table border=\"1\" class=\"dataframe\">\n",
       "  <thead>\n",
       "    <tr style=\"text-align: right;\">\n",
       "      <th></th>\n",
       "      <th>Chaikin A/D</th>\n",
       "      <th>ADX</th>\n",
       "      <th>Aroon Down</th>\n",
       "      <th>Aroon Up</th>\n",
       "      <th>Real Lower Band</th>\n",
       "      <th>Real Middle Band</th>\n",
       "      <th>Real Upper Band</th>\n",
       "      <th>CCI</th>\n",
       "      <th>EMA</th>\n",
       "      <th>MACD</th>\n",
       "      <th>...</th>\n",
       "      <th>SMA</th>\n",
       "      <th>SlowD</th>\n",
       "      <th>SlowK</th>\n",
       "      <th>FastD</th>\n",
       "      <th>FastK</th>\n",
       "      <th>open</th>\n",
       "      <th>high</th>\n",
       "      <th>low</th>\n",
       "      <th>close</th>\n",
       "      <th>volume</th>\n",
       "    </tr>\n",
       "    <tr>\n",
       "      <th>timestamp</th>\n",
       "      <th></th>\n",
       "      <th></th>\n",
       "      <th></th>\n",
       "      <th></th>\n",
       "      <th></th>\n",
       "      <th></th>\n",
       "      <th></th>\n",
       "      <th></th>\n",
       "      <th></th>\n",
       "      <th></th>\n",
       "      <th></th>\n",
       "      <th></th>\n",
       "      <th></th>\n",
       "      <th></th>\n",
       "      <th></th>\n",
       "      <th></th>\n",
       "      <th></th>\n",
       "      <th></th>\n",
       "      <th></th>\n",
       "      <th></th>\n",
       "      <th></th>\n",
       "    </tr>\n",
       "  </thead>\n",
       "  <tbody>\n",
       "    <tr>\n",
       "      <th>1998-07-10</th>\n",
       "      <td>9.495330e+06</td>\n",
       "      <td>25.816</td>\n",
       "      <td>100.0</td>\n",
       "      <td>0.0</td>\n",
       "      <td>10.0417</td>\n",
       "      <td>93.966</td>\n",
       "      <td>177.8903</td>\n",
       "      <td>-654.2586</td>\n",
       "      <td>95.9199</td>\n",
       "      <td>-7.1406</td>\n",
       "      <td>...</td>\n",
       "      <td>101.133</td>\n",
       "      <td>58.8071</td>\n",
       "      <td>60.4938</td>\n",
       "      <td>66.6667</td>\n",
       "      <td>0.0</td>\n",
       "      <td>37.25</td>\n",
       "      <td>38.5</td>\n",
       "      <td>36.5</td>\n",
       "      <td>38.13</td>\n",
       "      <td>5284767</td>\n",
       "    </tr>\n",
       "  </tbody>\n",
       "</table>\n",
       "<p>1 rows × 24 columns</p>\n",
       "</div>"
      ],
      "text/plain": [
       "             Chaikin A/D     ADX  Aroon Down  Aroon Up  Real Lower Band  \\\n",
       "timestamp                                                                 \n",
       "1998-07-10  9.495330e+06  25.816       100.0       0.0          10.0417   \n",
       "\n",
       "            Real Middle Band  Real Upper Band       CCI      EMA    MACD  \\\n",
       "timestamp                                                                  \n",
       "1998-07-10            93.966         177.8903 -654.2586  95.9199 -7.1406   \n",
       "\n",
       "             ...         SMA    SlowD    SlowK    FastD  FastK   open  high  \\\n",
       "timestamp    ...                                                              \n",
       "1998-07-10   ...     101.133  58.8071  60.4938  66.6667    0.0  37.25  38.5   \n",
       "\n",
       "             low  close   volume  \n",
       "timestamp                         \n",
       "1998-07-10  36.5  38.13  5284767  \n",
       "\n",
       "[1 rows x 24 columns]"
      ]
     },
     "execution_count": 196,
     "metadata": {},
     "output_type": "execute_result"
    }
   ],
   "source": [
    "# samples\n",
    "X = df.drop(['buy', 'sell', 'hold'], axis=1)\n",
    "X.head(1)"
   ]
  },
  {
   "cell_type": "code",
   "execution_count": 197,
   "metadata": {},
   "outputs": [
    {
     "data": {
      "text/html": [
       "<div>\n",
       "<table border=\"1\" class=\"dataframe\">\n",
       "  <thead>\n",
       "    <tr style=\"text-align: right;\">\n",
       "      <th></th>\n",
       "      <th>RSI</th>\n",
       "      <th>SlowD</th>\n",
       "      <th>SlowK</th>\n",
       "      <th>FastD</th>\n",
       "      <th>FastK</th>\n",
       "      <th>open</th>\n",
       "      <th>high</th>\n",
       "      <th>low</th>\n",
       "      <th>close</th>\n",
       "    </tr>\n",
       "    <tr>\n",
       "      <th>timestamp</th>\n",
       "      <th></th>\n",
       "      <th></th>\n",
       "      <th></th>\n",
       "      <th></th>\n",
       "      <th></th>\n",
       "      <th></th>\n",
       "      <th></th>\n",
       "      <th></th>\n",
       "      <th></th>\n",
       "    </tr>\n",
       "  </thead>\n",
       "  <tbody>\n",
       "    <tr>\n",
       "      <th>1998-07-10</th>\n",
       "      <td>12.9131</td>\n",
       "      <td>58.8071</td>\n",
       "      <td>60.4938</td>\n",
       "      <td>66.6667</td>\n",
       "      <td>0.0</td>\n",
       "      <td>37.25</td>\n",
       "      <td>38.5</td>\n",
       "      <td>36.5</td>\n",
       "      <td>38.13</td>\n",
       "    </tr>\n",
       "  </tbody>\n",
       "</table>\n",
       "</div>"
      ],
      "text/plain": [
       "                RSI    SlowD    SlowK    FastD  FastK   open  high   low  \\\n",
       "timestamp                                                                  \n",
       "1998-07-10  12.9131  58.8071  60.4938  66.6667    0.0  37.25  38.5  36.5   \n",
       "\n",
       "            close  \n",
       "timestamp          \n",
       "1998-07-10  38.13  "
      ]
     },
     "execution_count": 197,
     "metadata": {},
     "output_type": "execute_result"
    }
   ],
   "source": [
    "X = df.drop([\n",
    "    'buy','sell','hold',\n",
    "    'Chaikin A/D', 'ADX', 'Aroon Down','Aroon Up', \n",
    "    'Real Lower Band', 'Real Middle Band', 'Real Upper Band',\n",
    "#     'SlowK','FastD','FastK','SlowD',\n",
    "    'CCI', 'OBV', 'MACD_Hist', 'MACD_Signal','MACD','EMA','SMA',\n",
    "    'volume'\n",
    "], axis=1)\n",
    "X.head(1)"
   ]
  },
  {
   "cell_type": "code",
   "execution_count": 211,
   "metadata": {},
   "outputs": [
    {
     "name": "stdout",
     "output_type": "stream",
     "text": [
      "hold 2547\n",
      "buy 1282\n",
      "sell 1281\n"
     ]
    },
    {
     "data": {
      "text/plain": [
       "array([0, 0, 1, ..., 0, 1, 0])"
      ]
     },
     "execution_count": 211,
     "metadata": {},
     "output_type": "execute_result"
    }
   ],
   "source": [
    "# truth labels (pull just the sell label)\n",
    "print('hold', df['hold'].sum())\n",
    "print('buy', df['buy'].sum())\n",
    "print('sell', df['sell'].sum())\n",
    "Y = df.filter(['buy','sell','hold'], axis=1)\n",
    "Y['label'] = np.where(Y['sell']==1, 1, 0)\n",
    "Y = Y.filter(['label'], axis=1)['label'].values\n",
    "Y"
   ]
  },
  {
   "cell_type": "code",
   "execution_count": 199,
   "metadata": {},
   "outputs": [
    {
     "name": "stdout",
     "output_type": "stream",
     "text": [
      "X_train 3832 examples\n",
      "X_test 1278 examples\n",
      "Y_train 3832 examples\n",
      "Y_test 1278 examples\n",
      "shape (3832, 9)\n"
     ]
    }
   ],
   "source": [
    "from sklearn.model_selection import train_test_split\n",
    "# 75%/25% train/test\n",
    "X_train, X_test, Y_train, Y_test = train_test_split(\n",
    "    X,Y\n",
    ")\n",
    "print('X_train',len(X_train),'examples')\n",
    "print('X_test',len(X_test),'examples')\n",
    "print('Y_train',len(Y_train),'examples')\n",
    "print('Y_test',len(Y_test),'examples')\n",
    "print('shape', X_train.shape)"
   ]
  },
  {
   "cell_type": "code",
   "execution_count": 200,
   "metadata": {},
   "outputs": [
    {
     "data": {
      "text/plain": [
       "array([-0.11244813,  1.5714341 ,  1.41772355,  1.15098914,  0.35408637,\n",
       "       -0.33720579, -0.34213735, -0.35204559, -0.35576565])"
      ]
     },
     "execution_count": 200,
     "metadata": {},
     "output_type": "execute_result"
    }
   ],
   "source": [
    "scaler = StandardScaler()  \n",
    "# Don't cheat - fit only on training data\n",
    "scaler.fit(X_train)  \n",
    "X_train = scaler.transform(X_train)  \n",
    "# apply same transformation to test data\n",
    "X_test = scaler.transform(X_test)\n",
    "\n",
    "X_train[0]"
   ]
  },
  {
   "cell_type": "code",
   "execution_count": 201,
   "metadata": {},
   "outputs": [],
   "source": [
    "def print_metrics(name, model, predictions, X_train, Y_train, Y_test):\n",
    "    print(name+\":\")\n",
    "    print(\"Training score: %f\" % model.score(X_train, Y_train))\n",
    "    print(\"Training loss: %f\" % model.loss_)\n",
    "    print(\"Accuracy: \", accuracy_score(predictions, Y_test))\n",
    "    print(\"F1: \", \n",
    "        f1_score(predictions, Y_test, average=None), \n",
    "        f1_score(predictions, Y_test, average='micro')\n",
    "    )\n",
    "    print(\"R2: \", r2_score(predictions, Y_test))\n",
    "    print(\"Precision: \", \n",
    "        precision_score(predictions, Y_test, average=None), \n",
    "        precision_score(predictions, Y_test, average='micro')\n",
    "    )\n",
    "    print(\"Recall: \", \n",
    "        precision_score(predictions, Y_test, average=None), \n",
    "        recall_score(predictions, Y_test, average='micro')\n",
    "    )"
   ]
  },
  {
   "cell_type": "code",
   "execution_count": 202,
   "metadata": {},
   "outputs": [
    {
     "data": {
      "text/plain": [
       "MLPClassifier(activation='relu', alpha=1e-05, batch_size='auto', beta_1=0.9,\n",
       "       beta_2=0.999, early_stopping=False, epsilon=1e-08,\n",
       "       hidden_layer_sizes=(71, 71), learning_rate='constant',\n",
       "       learning_rate_init=0.001, max_iter=200, momentum=0.9,\n",
       "       nesterovs_momentum=True, power_t=0.5, random_state=None,\n",
       "       shuffle=True, solver='lbfgs', tol=0.0001, validation_fraction=0.1,\n",
       "       verbose=False, warm_start=False)"
      ]
     },
     "execution_count": 202,
     "metadata": {},
     "output_type": "execute_result"
    }
   ],
   "source": [
    "# http://scikit-learn.org/stable/modules/neural_networks_supervised.html\n",
    "mlp = MLPClassifier(\n",
    "    alpha=1e-5,\n",
    "    hidden_layer_sizes=(71, 71),\n",
    "    learning_rate='constant',\n",
    "    solver='lbfgs'\n",
    ")\n",
    "\n",
    "mlp.fit(X_train, Y_train)"
   ]
  },
  {
   "cell_type": "code",
   "execution_count": 203,
   "metadata": {},
   "outputs": [
    {
     "name": "stdout",
     "output_type": "stream",
     "text": [
      "Multi-Layer Perceptron:\n",
      "Training score: 0.832203\n",
      "Training loss: 0.323081\n",
      "Accuracy:  0.737089201878\n",
      "F1:  [ 0.82804504  0.44186047] 0.737089201878\n",
      "R2:  -0.532740570466\n",
      "Precision:  [ 0.84535005  0.41433022] 0.737089201878\n",
      "Recall:  [ 0.84535005  0.41433022] 0.737089201878\n"
     ]
    },
    {
     "data": {
      "text/plain": [
       "array([[  9.99930535e-01,   6.94645901e-05],\n",
       "       [  9.05708027e-01,   9.42919727e-02],\n",
       "       [  4.00660164e-01,   5.99339836e-01],\n",
       "       ..., \n",
       "       [  9.99808697e-01,   1.91303088e-04],\n",
       "       [  2.53036250e-01,   7.46963750e-01],\n",
       "       [  9.99739041e-01,   2.60958779e-04]])"
      ]
     },
     "execution_count": 203,
     "metadata": {},
     "output_type": "execute_result"
    }
   ],
   "source": [
    "print_metrics(\"Multi-Layer Perceptron\", mlp, mlp.predict(X_test), X_train, Y_train, Y_test)\n",
    "# probability score\n",
    "X_train_probability = mlp.predict_proba(X_train) \n",
    "X_train_probability"
   ]
  },
  {
   "cell_type": "code",
   "execution_count": 204,
   "metadata": {},
   "outputs": [
    {
     "data": {
      "text/plain": [
       "GridSearchCV(cv=None, error_score='raise',\n",
       "       estimator=MLPClassifier(activation='relu', alpha=0.0001, batch_size='auto', beta_1=0.9,\n",
       "       beta_2=0.999, early_stopping=True, epsilon=1e-08,\n",
       "       hidden_layer_sizes=(100,), learning_rate='adaptive',\n",
       "       learning_rate_init=1.0, max_iter=200, momentum=0.9,\n",
       "       nesterovs_momentum=True, power_t=0.5, random_state=None,\n",
       "       shuffle=True, solver='adam', tol=0.0001, validation_fraction=0.1,\n",
       "       verbose=False, warm_start=False),\n",
       "       fit_params={}, iid=True, n_jobs=-1,\n",
       "       param_grid={'hidden_layer_sizes': [(71,), (71, 71), (71, 71, 3)], 'tol': [0.01, 0.001, 0.0001, 1e-05, 1e-06], 'epsilon': [0.001, 1e-07, 1e-08, 1e-09, 1e-08]},\n",
       "       pre_dispatch='2*n_jobs', refit=True, return_train_score=True,\n",
       "       scoring=None, verbose=0)"
      ]
     },
     "execution_count": 204,
     "metadata": {},
     "output_type": "execute_result"
    }
   ],
   "source": [
    "param_grid = {\n",
    "    'hidden_layer_sizes': [(71,), (71, 71), (71, 71, 3)],\n",
    "    'tol': [1e-2, 1e-3, 1e-4, 1e-5, 1e-6],\n",
    "    'epsilon': [1e-3, 1e-7, 1e-8, 1e-9, 1e-8]\n",
    "}\n",
    "gridmlp = GridSearchCV(\n",
    "    MLPClassifier(learning_rate='adaptive', learning_rate_init=1., early_stopping=True, shuffle=True),\n",
    "    param_grid=param_grid, n_jobs=-1)\n",
    "gridmlp.fit(X_train, Y_train)"
   ]
  },
  {
   "cell_type": "code",
   "execution_count": 205,
   "metadata": {},
   "outputs": [
    {
     "name": "stdout",
     "output_type": "stream",
     "text": [
      "Training set score: 0.748956\n",
      "Results with Multi-Layer Perceptron:\n",
      "accuracy_score:  0.731611893584\n",
      "r2_score:  -4.99827586207\n",
      "             precision    recall  f1-score   support\n",
      "\n",
      "          0       0.75      0.96      0.84       957\n",
      "          1       0.32      0.06      0.10       321\n",
      "\n",
      "avg / total       0.64      0.73      0.66      1278\n",
      "\n"
     ]
    }
   ],
   "source": [
    "gridmlp_predictions = gridmlp.predict(X_test)\n",
    "print(\"Training set score: %f\" % gridmlp.score(X_train, Y_train))\n",
    "# print(\"Training set loss: %f\" % gridmlp.loss_)\n",
    "print(\"Results with Multi-Layer Perceptron:\")\n",
    "print(\"accuracy_score: \", accuracy_score(gridmlp_predictions, Y_test))\n",
    "print(\"r2_score: \", r2_score(gridmlp_predictions, Y_test))\n",
    "# print(\"recall: \", recall_score(gridmlp_predictions, Y_test))\n",
    "print(classification_report(y_true=Y_test,y_pred=gridmlp_predictions))"
   ]
  },
  {
   "cell_type": "code",
   "execution_count": 206,
   "metadata": {},
   "outputs": [],
   "source": [
    "# https://github.com/scikit-learn/scikit-learn/blob/master/examples/neural_networks/plot_mlp_training_curves.py"
   ]
  },
  {
   "cell_type": "code",
   "execution_count": 207,
   "metadata": {},
   "outputs": [
    {
     "name": "stdout",
     "output_type": "stream",
     "text": [
      "Training set score: 0.826461\n",
      "Results with Gradient Boost:\n",
      "accuracy:  0.747261345853\n",
      "r2:  -0.930387205387\n",
      "             precision    recall  f1-score   support\n",
      "\n",
      "          0       0.79      0.90      0.84       957\n",
      "          1       0.49      0.31      0.38       321\n",
      "\n",
      "avg / total       0.72      0.75      0.72      1278\n",
      "\n"
     ]
    }
   ],
   "source": [
    "# https://stats.stackexchange.com/questions/260736/multiclass-classification-having-class-imbalance-with-gradient-boosting-classifi\n",
    "# https://www.analyticsvidhya.com/blog/2016/02/complete-guide-parameter-tuning-gradient-boosting-gbm-python/\n",
    "\n",
    "from sklearn.ensemble import GradientBoostingClassifier\n",
    "\n",
    "# http://scikit-learn.org/stable/modules/neural_networks_supervised.html\n",
    "gbc = GradientBoostingClassifier()\n",
    "\n",
    "gbc.fit(X_train, Y_train)\n",
    "gbc_predictions = gbc.predict(X_test)\n",
    "\n",
    "print(\"Training set score: %f\" % gbc.score(X_train, Y_train))\n",
    "# print(\"Training set loss: %f\" % gbc.loss_)\n",
    "\n",
    "print(\"Results with Gradient Boost:\")\n",
    "print(\"accuracy: \", accuracy_score(gbc_predictions, Y_test))\n",
    "print(\"r2: \", r2_score(gbc_predictions, Y_test))\n",
    "# print(\"recall: \", recall_score(gbc_predictions, Y_test_single))\n",
    "print(classification_report(y_true=Y_test,y_pred=gbc_predictions))"
   ]
  },
  {
   "cell_type": "code",
   "execution_count": 208,
   "metadata": {},
   "outputs": [
    {
     "name": "stdout",
     "output_type": "stream",
     "text": [
      "Accuracy: 74.3348982786\n",
      "MSE: 0.256651017214\n",
      "score: 0.743348982786\n",
      "             precision    recall  f1-score   support\n",
      "\n",
      "          0       0.79      0.90      0.84       957\n",
      "          1       0.48      0.27      0.35       321\n",
      "\n",
      "avg / total       0.71      0.74      0.72      1278\n",
      "\n"
     ]
    }
   ],
   "source": [
    "from sklearn.ensemble import RandomForestClassifier\n",
    "\n",
    "rfc = RandomForestClassifier(n_estimators=100, min_samples_leaf=10)\n",
    "rfc.fit(X_train, Y_train)\n",
    "Y_pred = rfc.predict(X_test)\n",
    "percent = np.mean(Y_pred == Y_test)*100\n",
    "print(\"Accuracy:\", percent)\n",
    "print('MSE:', mean_squared_error(Y_pred, Y_test))\n",
    "print('score:', rfc.score(X_test, Y_test))\n",
    "print(classification_report(y_true=Y_test,y_pred=Y_pred))"
   ]
  },
  {
   "cell_type": "code",
   "execution_count": 209,
   "metadata": {},
   "outputs": [
    {
     "name": "stdout",
     "output_type": "stream",
     "text": [
      "             precision    recall  f1-score   support\n",
      "\n",
      "          0       0.76      0.96      0.85       957\n",
      "          1       0.47      0.10      0.16       321\n",
      "\n",
      "avg / total       0.69      0.75      0.68      1278\n",
      "\n"
     ]
    }
   ],
   "source": [
    "gb=GradientBoostingClassifier(n_estimators=200,learning_rate=.01)\n",
    "gb.fit(X_train,Y_train)\n",
    "\n",
    "cross_val_score(estimator=gb,X=X_test,y=Y_test,scoring='precision_weighted',cv=5)\n",
    "print(classification_report(y_true=Y_test,y_pred=gb.predict(X_test)))"
   ]
  },
  {
   "cell_type": "code",
   "execution_count": null,
   "metadata": {},
   "outputs": [],
   "source": []
  }
 ],
 "metadata": {
  "kernelspec": {
   "display_name": "Python 3",
   "language": "python",
   "name": "python3"
  },
  "language_info": {
   "codemirror_mode": {
    "name": "ipython",
    "version": 3
   },
   "file_extension": ".py",
   "mimetype": "text/x-python",
   "name": "python",
   "nbconvert_exporter": "python",
   "pygments_lexer": "ipython3",
   "version": "3.6.3"
  }
 },
 "nbformat": 4,
 "nbformat_minor": 2
}
