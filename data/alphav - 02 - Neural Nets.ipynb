{
 "cells": [
  {
   "cell_type": "code",
   "execution_count": 94,
   "metadata": {},
   "outputs": [
    {
     "data": {
      "text/html": [
       "<div>\n",
       "<table border=\"1\" class=\"dataframe\">\n",
       "  <thead>\n",
       "    <tr style=\"text-align: right;\">\n",
       "      <th></th>\n",
       "      <th>Chaikin A/D</th>\n",
       "      <th>ADX</th>\n",
       "      <th>Aroon Down</th>\n",
       "      <th>Aroon Up</th>\n",
       "      <th>Real Lower Band</th>\n",
       "      <th>Real Middle Band</th>\n",
       "      <th>Real Upper Band</th>\n",
       "      <th>CCI</th>\n",
       "      <th>EMA</th>\n",
       "      <th>MACD</th>\n",
       "      <th>...</th>\n",
       "      <th>FastD</th>\n",
       "      <th>FastK</th>\n",
       "      <th>open</th>\n",
       "      <th>high</th>\n",
       "      <th>low</th>\n",
       "      <th>close</th>\n",
       "      <th>volume</th>\n",
       "      <th>buy</th>\n",
       "      <th>sell</th>\n",
       "      <th>hold</th>\n",
       "    </tr>\n",
       "    <tr>\n",
       "      <th>timestamp</th>\n",
       "      <th></th>\n",
       "      <th></th>\n",
       "      <th></th>\n",
       "      <th></th>\n",
       "      <th></th>\n",
       "      <th></th>\n",
       "      <th></th>\n",
       "      <th></th>\n",
       "      <th></th>\n",
       "      <th></th>\n",
       "      <th></th>\n",
       "      <th></th>\n",
       "      <th></th>\n",
       "      <th></th>\n",
       "      <th></th>\n",
       "      <th></th>\n",
       "      <th></th>\n",
       "      <th></th>\n",
       "      <th></th>\n",
       "      <th></th>\n",
       "      <th></th>\n",
       "    </tr>\n",
       "  </thead>\n",
       "  <tbody>\n",
       "    <tr>\n",
       "      <th>1998-07-10</th>\n",
       "      <td>9.495330e+06</td>\n",
       "      <td>25.816</td>\n",
       "      <td>100.0</td>\n",
       "      <td>0.0</td>\n",
       "      <td>10.0417</td>\n",
       "      <td>93.966</td>\n",
       "      <td>177.8903</td>\n",
       "      <td>-654.2586</td>\n",
       "      <td>95.9199</td>\n",
       "      <td>-7.1406</td>\n",
       "      <td>...</td>\n",
       "      <td>66.6667</td>\n",
       "      <td>0.0</td>\n",
       "      <td>37.25</td>\n",
       "      <td>38.5</td>\n",
       "      <td>36.5</td>\n",
       "      <td>38.13</td>\n",
       "      <td>5284767</td>\n",
       "      <td>1</td>\n",
       "      <td>0</td>\n",
       "      <td>0</td>\n",
       "    </tr>\n",
       "  </tbody>\n",
       "</table>\n",
       "<p>1 rows × 27 columns</p>\n",
       "</div>"
      ],
      "text/plain": [
       "             Chaikin A/D     ADX  Aroon Down  Aroon Up  Real Lower Band  \\\n",
       "timestamp                                                                 \n",
       "1998-07-10  9.495330e+06  25.816       100.0       0.0          10.0417   \n",
       "\n",
       "            Real Middle Band  Real Upper Band       CCI      EMA    MACD  \\\n",
       "timestamp                                                                  \n",
       "1998-07-10            93.966         177.8903 -654.2586  95.9199 -7.1406   \n",
       "\n",
       "            ...     FastD  FastK   open  high   low  close   volume  buy  \\\n",
       "timestamp   ...                                                            \n",
       "1998-07-10  ...   66.6667    0.0  37.25  38.5  36.5  38.13  5284767    1   \n",
       "\n",
       "            sell  hold  \n",
       "timestamp               \n",
       "1998-07-10     0     0  \n",
       "\n",
       "[1 rows x 27 columns]"
      ]
     },
     "execution_count": 94,
     "metadata": {},
     "output_type": "execute_result"
    }
   ],
   "source": [
    "import pandas as pd\n",
    "\n",
    "df = pd.read_csv('labeled_DIS.csv', index_col='timestamp')\n",
    "df.head(1)"
   ]
  },
  {
   "cell_type": "code",
   "execution_count": 95,
   "metadata": {},
   "outputs": [
    {
     "data": {
      "text/html": [
       "<div>\n",
       "<table border=\"1\" class=\"dataframe\">\n",
       "  <thead>\n",
       "    <tr style=\"text-align: right;\">\n",
       "      <th></th>\n",
       "      <th>Chaikin A/D</th>\n",
       "      <th>ADX</th>\n",
       "      <th>Aroon Down</th>\n",
       "      <th>Aroon Up</th>\n",
       "      <th>Real Lower Band</th>\n",
       "      <th>Real Middle Band</th>\n",
       "      <th>Real Upper Band</th>\n",
       "      <th>CCI</th>\n",
       "      <th>EMA</th>\n",
       "      <th>MACD</th>\n",
       "      <th>...</th>\n",
       "      <th>SMA</th>\n",
       "      <th>SlowD</th>\n",
       "      <th>SlowK</th>\n",
       "      <th>FastD</th>\n",
       "      <th>FastK</th>\n",
       "      <th>open</th>\n",
       "      <th>high</th>\n",
       "      <th>low</th>\n",
       "      <th>close</th>\n",
       "      <th>volume</th>\n",
       "    </tr>\n",
       "    <tr>\n",
       "      <th>timestamp</th>\n",
       "      <th></th>\n",
       "      <th></th>\n",
       "      <th></th>\n",
       "      <th></th>\n",
       "      <th></th>\n",
       "      <th></th>\n",
       "      <th></th>\n",
       "      <th></th>\n",
       "      <th></th>\n",
       "      <th></th>\n",
       "      <th></th>\n",
       "      <th></th>\n",
       "      <th></th>\n",
       "      <th></th>\n",
       "      <th></th>\n",
       "      <th></th>\n",
       "      <th></th>\n",
       "      <th></th>\n",
       "      <th></th>\n",
       "      <th></th>\n",
       "      <th></th>\n",
       "    </tr>\n",
       "  </thead>\n",
       "  <tbody>\n",
       "    <tr>\n",
       "      <th>1998-07-10</th>\n",
       "      <td>9.495330e+06</td>\n",
       "      <td>25.816</td>\n",
       "      <td>100.0</td>\n",
       "      <td>0.0</td>\n",
       "      <td>10.0417</td>\n",
       "      <td>93.966</td>\n",
       "      <td>177.8903</td>\n",
       "      <td>-654.2586</td>\n",
       "      <td>95.9199</td>\n",
       "      <td>-7.1406</td>\n",
       "      <td>...</td>\n",
       "      <td>101.133</td>\n",
       "      <td>58.8071</td>\n",
       "      <td>60.4938</td>\n",
       "      <td>66.6667</td>\n",
       "      <td>0.0</td>\n",
       "      <td>37.25</td>\n",
       "      <td>38.5</td>\n",
       "      <td>36.5</td>\n",
       "      <td>38.13</td>\n",
       "      <td>5284767</td>\n",
       "    </tr>\n",
       "  </tbody>\n",
       "</table>\n",
       "<p>1 rows × 24 columns</p>\n",
       "</div>"
      ],
      "text/plain": [
       "             Chaikin A/D     ADX  Aroon Down  Aroon Up  Real Lower Band  \\\n",
       "timestamp                                                                 \n",
       "1998-07-10  9.495330e+06  25.816       100.0       0.0          10.0417   \n",
       "\n",
       "            Real Middle Band  Real Upper Band       CCI      EMA    MACD  \\\n",
       "timestamp                                                                  \n",
       "1998-07-10            93.966         177.8903 -654.2586  95.9199 -7.1406   \n",
       "\n",
       "             ...         SMA    SlowD    SlowK    FastD  FastK   open  high  \\\n",
       "timestamp    ...                                                              \n",
       "1998-07-10   ...     101.133  58.8071  60.4938  66.6667    0.0  37.25  38.5   \n",
       "\n",
       "             low  close   volume  \n",
       "timestamp                         \n",
       "1998-07-10  36.5  38.13  5284767  \n",
       "\n",
       "[1 rows x 24 columns]"
      ]
     },
     "execution_count": 95,
     "metadata": {},
     "output_type": "execute_result"
    }
   ],
   "source": [
    "# samples\n",
    "X = df.drop(['buy', 'sell', 'hold'], axis=1)\n",
    "X.head(1)"
   ]
  },
  {
   "cell_type": "code",
   "execution_count": 96,
   "metadata": {},
   "outputs": [
    {
     "data": {
      "text/html": [
       "<div>\n",
       "<table border=\"1\" class=\"dataframe\">\n",
       "  <thead>\n",
       "    <tr style=\"text-align: right;\">\n",
       "      <th></th>\n",
       "      <th>buy</th>\n",
       "      <th>sell</th>\n",
       "      <th>hold</th>\n",
       "    </tr>\n",
       "    <tr>\n",
       "      <th>timestamp</th>\n",
       "      <th></th>\n",
       "      <th></th>\n",
       "      <th></th>\n",
       "    </tr>\n",
       "  </thead>\n",
       "  <tbody>\n",
       "    <tr>\n",
       "      <th>1998-07-10</th>\n",
       "      <td>1</td>\n",
       "      <td>0</td>\n",
       "      <td>0</td>\n",
       "    </tr>\n",
       "  </tbody>\n",
       "</table>\n",
       "</div>"
      ],
      "text/plain": [
       "            buy  sell  hold\n",
       "timestamp                  \n",
       "1998-07-10    1     0     0"
      ]
     },
     "execution_count": 96,
     "metadata": {},
     "output_type": "execute_result"
    }
   ],
   "source": [
    "# truth labels (Multiclass Classification)\n",
    "Y = df.filter(['buy','sell','hold'], axis=1)\n",
    "Y.head(1)"
   ]
  },
  {
   "cell_type": "code",
   "execution_count": 97,
   "metadata": {},
   "outputs": [],
   "source": [
    "import numpy as np\n",
    "import sklearn\n",
    "import matplotlib\n",
    "import matplotlib.pyplot as plt\n",
    "from sklearn.model_selection import GridSearchCV\n",
    "# http://scikit-learn.org/stable/modules/generated/sklearn.metrics.precision_recall_curve.html\n",
    "from sklearn.metrics import accuracy_score, precision_score, recall_score, f1_score, r2_score, precision_recall_curve, mean_squared_error\n",
    "\n",
    "from sklearn.neural_network import MLPClassifier\n",
    "from sklearn.preprocessing import StandardScaler"
   ]
  },
  {
   "cell_type": "code",
   "execution_count": 98,
   "metadata": {},
   "outputs": [
    {
     "name": "stdout",
     "output_type": "stream",
     "text": [
      "X_train 3832 examples\n",
      "X_test 1278 examples\n",
      "Y_train 3832 examples\n",
      "Y_test 1278 examples\n",
      "shape (3832, 24)\n"
     ]
    }
   ],
   "source": [
    "from sklearn.model_selection import train_test_split\n",
    "# 75%/25% train/test\n",
    "X_train, X_test, Y_train, Y_test = train_test_split(\n",
    "    X,Y\n",
    ")\n",
    "print('X_train',len(X_train),'examples')\n",
    "print('X_test',len(X_test),'examples')\n",
    "print('Y_train',len(Y_train),'examples')\n",
    "print('Y_test',len(Y_test),'examples')\n",
    "print('shape', X_train.shape)"
   ]
  },
  {
   "cell_type": "code",
   "execution_count": 99,
   "metadata": {},
   "outputs": [
    {
     "data": {
      "text/plain": [
       "timestamp\n",
       "2004-04-30    1\n",
       "2017-11-01    2\n",
       "2006-09-13    2\n",
       "2000-08-07    1\n",
       "2014-06-25    0\n",
       "2016-11-16    0\n",
       "2016-03-17    2\n",
       "2014-08-04    2\n",
       "2016-07-06    2\n",
       "2007-12-06    1\n",
       "Name: label, dtype: int64"
      ]
     },
     "execution_count": 99,
     "metadata": {},
     "output_type": "execute_result"
    }
   ],
   "source": [
    "# create numeric labels for GradientBoost (can't handle multiple classes)\n",
    "Y_tmp = Y_train.copy()\n",
    "Y_tmp['label'] = np.where(Y_train['buy']==1, 1, (np.where(Y_train['sell']==1, 2, 0)))\n",
    "Y_train_single = Y_tmp['label']\n",
    "\n",
    "Y_tmp = Y_test.copy()\n",
    "Y_tmp['label'] = np.where(Y_test['buy']==1, 1, (np.where(Y_test['sell']==1, 2, 0)))\n",
    "Y_test_single = Y_tmp['label']\n",
    "Y_test_single.head(10)"
   ]
  },
  {
   "cell_type": "code",
   "execution_count": 100,
   "metadata": {},
   "outputs": [
    {
     "data": {
      "text/plain": [
       "array([ 0.66956316,  0.8455014 ,  1.55807872,  0.45111212, -0.5392745 ,\n",
       "       -0.53148361, -0.51983923, -1.48312779, -0.51904879, -0.70485659,\n",
       "        0.13041539, -0.75100322, -0.61316677, -1.20341535, -0.50635288,\n",
       "       -1.18697911, -1.17321415, -0.89428563, -0.58778517, -0.56612795,\n",
       "       -0.5566245 , -0.55753855, -0.54544278,  0.26755596])"
      ]
     },
     "execution_count": 100,
     "metadata": {},
     "output_type": "execute_result"
    }
   ],
   "source": [
    "scaler = StandardScaler()  \n",
    "# Don't cheat - fit only on training data\n",
    "scaler.fit(X_train)  \n",
    "X_train = scaler.transform(X_train)  \n",
    "# apply same transformation to test data\n",
    "X_test = scaler.transform(X_test)\n",
    "\n",
    "X_train[0]"
   ]
  },
  {
   "cell_type": "code",
   "execution_count": 101,
   "metadata": {},
   "outputs": [],
   "source": [
    "def print_metrics(name, model, predictions, X_train, Y_train, Y_test):\n",
    "    print(\"Results with \"+name+\":\")\n",
    "    print(\"Training set score: %f\" % model.score(X_train, Y_train))\n",
    "    print(\"Training set loss: %f\" % model.loss_)\n",
    "    percent = np.mean(predictions == Y_test)*100\n",
    "    print(\"Accuracy:\")\n",
    "    print(percent)\n",
    "    print(\"Accuracy (all): \", accuracy_score(predictions, Y_test))\n",
    "    print(\"F1: \", \n",
    "        f1_score(predictions, Y_test, average=None), \n",
    "        f1_score(predictions, Y_test, average='micro')\n",
    "    )\n",
    "    print(\"R2: \", r2_score(predictions, Y_test))\n",
    "    print(\"Precision: \", \n",
    "        precision_score(predictions, Y_test, average=None), \n",
    "        precision_score(predictions, Y_test, average='micro')\n",
    "    )\n",
    "    print(\"recall: \", \n",
    "        precision_score(predictions, Y_test, average=None), \n",
    "        recall_score(predictions, Y_test, average='micro')\n",
    "    )"
   ]
  },
  {
   "cell_type": "code",
   "execution_count": 102,
   "metadata": {},
   "outputs": [
    {
     "data": {
      "text/plain": [
       "MLPClassifier(activation='relu', alpha=1e-05, batch_size='auto', beta_1=0.9,\n",
       "       beta_2=0.999, early_stopping=False, epsilon=1e-08,\n",
       "       hidden_layer_sizes=(71, 71), learning_rate='constant',\n",
       "       learning_rate_init=0.001, max_iter=200, momentum=0.9,\n",
       "       nesterovs_momentum=True, power_t=0.5, random_state=None,\n",
       "       shuffle=True, solver='lbfgs', tol=0.0001, validation_fraction=0.1,\n",
       "       verbose=False, warm_start=False)"
      ]
     },
     "execution_count": 102,
     "metadata": {},
     "output_type": "execute_result"
    }
   ],
   "source": [
    "# http://scikit-learn.org/stable/modules/neural_networks_supervised.html\n",
    "mlp = MLPClassifier(\n",
    "    alpha=1e-5,\n",
    "    hidden_layer_sizes=(71, 71),\n",
    "    learning_rate='constant',\n",
    "    solver='lbfgs'\n",
    ")\n",
    "\n",
    "mlp.fit(X_train, Y_train)"
   ]
  },
  {
   "cell_type": "code",
   "execution_count": 103,
   "metadata": {},
   "outputs": [
    {
     "name": "stdout",
     "output_type": "stream",
     "text": [
      "Results with Multi-Layer Perceptron:\n",
      "Training set score: 0.723904\n",
      "Training set loss: 0.896468\n",
      "Accuracy:\n",
      "buy     71.987480\n",
      "sell    72.378717\n",
      "hold    50.547731\n",
      "dtype: float64\n",
      "Accuracy (all):  0.39827856025\n",
      "F1:  [ 0.42993631  0.44929797  0.49761526] 0.468539770479\n",
      "R2:  -0.764527361496\n",
      "Precision:  [ 0.39823009  0.4         0.54058722] 0.463223787167\n",
      "recall:  [ 0.39823009  0.4         0.54058722] 0.473979183347\n"
     ]
    },
    {
     "name": "stderr",
     "output_type": "stream",
     "text": [
      "/opt/conda/lib/python3.6/site-packages/sklearn/metrics/regression.py:482: DeprecationWarning: Default 'multioutput' behavior now corresponds to 'variance_weighted' value which is deprecated since 0.17, it will be changed to 'uniform_average' starting from 0.19.\n",
      "  DeprecationWarning)\n"
     ]
    }
   ],
   "source": [
    "print_metrics(\"Multi-Layer Perceptron\", mlp, mlp.predict(X_test), X_train, Y_train, Y_test)"
   ]
  },
  {
   "cell_type": "code",
   "execution_count": 104,
   "metadata": {},
   "outputs": [
    {
     "data": {
      "text/plain": [
       "array([[  2.74071258e-04,   6.59129547e-02,   9.96894746e-01],\n",
       "       [  7.57253715e-01,   2.91688559e-04,   1.79148821e-01],\n",
       "       [  4.07661420e-08,   9.23474608e-01,   2.07478252e-01],\n",
       "       ..., \n",
       "       [  6.73108483e-03,   1.36375921e-01,   1.38069534e-01],\n",
       "       [  1.16744107e-05,   3.45340123e-01,   7.80003076e-01],\n",
       "       [  8.43184074e-01,   8.25265164e-03,   2.40556624e-01]])"
      ]
     },
     "execution_count": 104,
     "metadata": {},
     "output_type": "execute_result"
    }
   ],
   "source": [
    "# probability score\n",
    "X_train_probability = mlp.predict_proba(X_train) \n",
    "X_train_probability"
   ]
  },
  {
   "cell_type": "code",
   "execution_count": 105,
   "metadata": {},
   "outputs": [
    {
     "data": {
      "text/plain": [
       "GridSearchCV(cv=None, error_score='raise',\n",
       "       estimator=MLPClassifier(activation='relu', alpha=0.0001, batch_size='auto', beta_1=0.9,\n",
       "       beta_2=0.999, early_stopping=True, epsilon=1e-08,\n",
       "       hidden_layer_sizes=(100,), learning_rate='adaptive',\n",
       "       learning_rate_init=1.0, max_iter=200, momentum=0.9,\n",
       "       nesterovs_momentum=True, power_t=0.5, random_state=None,\n",
       "       shuffle=True, solver='adam', tol=0.0001, validation_fraction=0.1,\n",
       "       verbose=False, warm_start=False),\n",
       "       fit_params={}, iid=True, n_jobs=-1,\n",
       "       param_grid={'hidden_layer_sizes': [(71,), (71, 71), (71, 71, 3)], 'tol': [0.01, 0.001, 0.0001, 1e-05, 1e-06], 'epsilon': [0.001, 1e-07, 1e-08, 1e-09, 1e-08]},\n",
       "       pre_dispatch='2*n_jobs', refit=True, return_train_score=True,\n",
       "       scoring=None, verbose=0)"
      ]
     },
     "execution_count": 105,
     "metadata": {},
     "output_type": "execute_result"
    }
   ],
   "source": [
    "param_grid = {\n",
    "    'hidden_layer_sizes': [(71,), (71, 71), (71, 71, 3)],\n",
    "    'tol': [1e-2, 1e-3, 1e-4, 1e-5, 1e-6],\n",
    "    'epsilon': [1e-3, 1e-7, 1e-8, 1e-9, 1e-8]\n",
    "}\n",
    "gridmlp = GridSearchCV(\n",
    "    MLPClassifier(learning_rate='adaptive', learning_rate_init=1., early_stopping=True, shuffle=True),\n",
    "    param_grid=param_grid, n_jobs=-1)\n",
    "gridmlp.fit(X_train, Y_train)"
   ]
  },
  {
   "cell_type": "code",
   "execution_count": 106,
   "metadata": {},
   "outputs": [
    {
     "name": "stdout",
     "output_type": "stream",
     "text": [
      "Training set score: 0.513570\n",
      "Results with Multi-Layer Perceptron:\n",
      "Accuracy:\n",
      "buy     73.395931\n",
      "sell    71.752739\n",
      "hold    45.226917\n",
      "dtype: float64\n",
      "accuracy_score:  0.452269170579\n",
      "r2_score:  -466.365700861\n"
     ]
    },
    {
     "name": "stderr",
     "output_type": "stream",
     "text": [
      "/opt/conda/lib/python3.6/site-packages/sklearn/metrics/regression.py:482: DeprecationWarning: Default 'multioutput' behavior now corresponds to 'variance_weighted' value which is deprecated since 0.17, it will be changed to 'uniform_average' starting from 0.19.\n",
      "  DeprecationWarning)\n"
     ]
    }
   ],
   "source": [
    "gridmlp_predictions = gridmlp.predict(X_test)\n",
    "print(\"Training set score: %f\" % gridmlp.score(X_train, Y_train))\n",
    "# print(\"Training set loss: %f\" % gridmlp.loss_)\n",
    "print(\"Results with Multi-Layer Perceptron:\")\n",
    "percent = np.mean(gridmlp_predictions == Y_test)*100\n",
    "print(\"Accuracy:\")\n",
    "print(percent)\n",
    "\n",
    "print(\"accuracy_score: \", accuracy_score(gridmlp_predictions, Y_test))\n",
    "print(\"r2_score: \", r2_score(gridmlp_predictions, Y_test))\n",
    "# print(\"recall: \", recall_score(gridmlp_predictions, Y_test))"
   ]
  },
  {
   "cell_type": "code",
   "execution_count": 107,
   "metadata": {},
   "outputs": [],
   "source": [
    "# https://github.com/scikit-learn/scikit-learn/blob/master/examples/neural_networks/plot_mlp_training_curves.py"
   ]
  },
  {
   "cell_type": "code",
   "execution_count": 113,
   "metadata": {},
   "outputs": [
    {
     "name": "stdout",
     "output_type": "stream",
     "text": [
      "Training set score: 0.727296\n",
      "Results with Gradient Boost:\n",
      "Accuracy:\n",
      "49.765258216\n",
      "accuracy:  0.49765258216\n",
      "r2:  -1.3348505922\n"
     ]
    }
   ],
   "source": [
    "# https://stats.stackexchange.com/questions/260736/multiclass-classification-having-class-imbalance-with-gradient-boosting-classifi\n",
    "# https://www.analyticsvidhya.com/blog/2016/02/complete-guide-parameter-tuning-gradient-boosting-gbm-python/\n",
    "\n",
    "from sklearn.ensemble import GradientBoostingClassifier\n",
    "\n",
    "# http://scikit-learn.org/stable/modules/neural_networks_supervised.html\n",
    "gbc = GradientBoostingClassifier()\n",
    "\n",
    "gbc.fit(X_train, Y_train_single)\n",
    "gbc_predictions = gbc.predict(X_test)\n",
    "\n",
    "print(\"Training set score: %f\" % gbc.score(X_train, Y_train_single))\n",
    "# print(\"Training set loss: %f\" % gbc.loss_)\n",
    "\n",
    "print(\"Results with Gradient Boost:\")\n",
    "percent = np.mean(gbc_predictions == Y_test_single)*100\n",
    "print(\"Accuracy:\")\n",
    "print(percent)\n",
    "print(\"accuracy: \", accuracy_score(gbc_predictions, Y_test_single))\n",
    "print(\"r2: \", r2_score(gbc_predictions, Y_test_single))\n",
    "# print(\"recall: \", recall_score(gbc_predictions, Y_test_single))"
   ]
  },
  {
   "cell_type": "code",
   "execution_count": 115,
   "metadata": {},
   "outputs": [
    {
     "name": "stdout",
     "output_type": "stream",
     "text": [
      "Accuracy:\n",
      "46.0876369327\n",
      "MSE: 1.37949921753\n",
      "score: 0.460876369327\n"
     ]
    }
   ],
   "source": [
    "# Random Forest\n",
    "from sklearn.ensemble import RandomForestClassifier\n",
    "\n",
    "rfc = RandomForestClassifier(n_estimators=100, min_samples_leaf=10,     \n",
    "random_state=1)\n",
    "rfc.fit(X_train, Y_train_single)\n",
    "Y_pred = rfc.predict(X_test)\n",
    "percent = np.mean(Y_pred == Y_test_single)*100\n",
    "print(\"Accuracy:\")\n",
    "print(percent)\n",
    "print('MSE:', mean_squared_error(Y_pred, Y_test_single))\n",
    "print('score:', rfc.score(X_test, Y_test_single))\n"
   ]
  },
  {
   "cell_type": "code",
   "execution_count": 116,
   "metadata": {},
   "outputs": [
    {
     "name": "stdout",
     "output_type": "stream",
     "text": [
      "             precision    recall  f1-score   support\n",
      "\n",
      "          0       0.46      0.75      0.57       579\n",
      "          1       0.56      0.34      0.42       339\n",
      "          2       0.58      0.19      0.29       360\n",
      "\n",
      "avg / total       0.52      0.49      0.45      1278\n",
      "\n"
     ]
    }
   ],
   "source": [
    "from sklearn.ensemble import GradientBoostingClassifier\n",
    "from sklearn.cross_validation import cross_val_score\n",
    "from sklearn.metrics import classification_report,f1_score\n",
    "\n",
    "\n",
    "gb=GradientBoostingClassifier(n_estimators=200,learning_rate=.01)\n",
    "gb.fit(X_train,Y_train_single)\n",
    "\n",
    "cross_val_score(estimator=gb,X=X_test,y=Y_test_single,scoring='f1_weighted',cv=5)\n",
    "print(classification_report(y_true=Y_test_single,y_pred=gb.predict(X_test)))"
   ]
  },
  {
   "cell_type": "code",
   "execution_count": null,
   "metadata": {},
   "outputs": [],
   "source": []
  }
 ],
 "metadata": {
  "kernelspec": {
   "display_name": "Python 3",
   "language": "python",
   "name": "python3"
  },
  "language_info": {
   "codemirror_mode": {
    "name": "ipython",
    "version": 3
   },
   "file_extension": ".py",
   "mimetype": "text/x-python",
   "name": "python",
   "nbconvert_exporter": "python",
   "pygments_lexer": "ipython3",
   "version": "3.6.3"
  }
 },
 "nbformat": 4,
 "nbformat_minor": 2
}
